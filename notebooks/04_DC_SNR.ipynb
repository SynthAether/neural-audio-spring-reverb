{
 "cells": [
  {
   "cell_type": "markdown",
   "metadata": {},
   "source": [
    "# DC offset and Signal-to-Noise Ratio (SNR) estimation"
   ]
  },
  {
   "cell_type": "code",
   "execution_count": 30,
   "metadata": {},
   "outputs": [],
   "source": [
    "import sys\n",
    "sys.path.append('../')\n",
    "\n",
    "import torch\n",
    "import csv\n",
    "\n",
    "from pathlib import Path\n",
    "\n",
    "from src.data.egfxset import load_egfxset\n",
    "from src.data.springset import load_springset\n",
    "from src.utils.checkpoints import select_device"
   ]
  },
  {
   "cell_type": "code",
   "execution_count": 31,
   "metadata": {},
   "outputs": [],
   "source": [
    "DATA_DIR = Path('../data/raw/')\n",
    "MODELS_DIR = Path('../models/')\n",
    "RESULTS_DIR = Path('../data/features/')\n",
    "PLOTS_DIR = Path('../docs/plots/')"
   ]
  },
  {
   "cell_type": "markdown",
   "metadata": {},
   "source": [
    "## DC offset\n",
    "\n",
    "\\begin{equation}\n",
    "\\text{DC Offset} = \\frac{1}{N} \\sum_{i=1}^{N} x_i\n",
    "\\end{equation}"
   ]
  },
  {
   "cell_type": "code",
   "execution_count": 32,
   "metadata": {},
   "outputs": [],
   "source": [
    "def compute_dc_offset(signal):\n",
    "    \"\"\"\n",
    "    Compute the DC offset of an audio signal.\n",
    "    \"\"\"\n",
    "    return torch.mean(signal)"
   ]
  },
  {
   "cell_type": "markdown",
   "metadata": {},
   "source": [
    "## Signal-to-Noise Ratio\n",
    "\n",
    "\\begin{equation}\n",
    "\\text{res} = \\text{dry} - \\text{wet}\n",
    "\\end{equation}\n",
    "\n",
    "\\begin{equation}\n",
    "\\text{SNR (dB)} = 10 \\cdot \\log_{10}\\left(\\frac{\\text{wet}^2}{\\text{res}^2 + \\text{eps}}\\right)\n",
    "\\end{equation}\n",
    "\n",
    "where $\\text{wet}$ is the wet signal, $\\text{res}$ is the residual signal, and $\\text{eps}$ is a small number to avoid division by zero."
   ]
  },
  {
   "cell_type": "code",
   "execution_count": 33,
   "metadata": {},
   "outputs": [],
   "source": [
    "def compute_snr(dry, wet, eps=1e-8):\n",
    "    \"\"\"\n",
    "    Compute the Signal-to-Noise Ratio (SNR) using PyTorch.\n",
    "    Values are in dB.\n",
    "    \"\"\"\n",
    "    # reduce potential DC offset\n",
    "    dry = dry - dry.mean()\n",
    "    wet = wet - wet.mean()\n",
    "\n",
    "    # compute SNR\n",
    "    res = dry - wet\n",
    "    snr = 10 * torch.log10(\n",
    "        (wet ** 2).sum() / ((res ** 2).sum() + eps)\n",
    "    )\n",
    "    return snr.item()"
   ]
  },
  {
   "cell_type": "code",
   "execution_count": 34,
   "metadata": {},
   "outputs": [
    {
     "name": "stdout",
     "output_type": "stream",
     "text": [
      "Using device: cpu\n"
     ]
    }
   ],
   "source": [
    "device = select_device('cpu')"
   ]
  },
  {
   "cell_type": "markdown",
   "metadata": {},
   "source": [
    "## EGFxSet\n",
    "\n",
    "Select a dataset to work with. \n"
   ]
  },
  {
   "cell_type": "code",
   "execution_count": 35,
   "metadata": {},
   "outputs": [],
   "source": [
    "dataset = 'egfxset'\n",
    "\n",
    "if dataset == 'egfxset':\n",
    "    train_loader, _, _ = load_egfxset(DATA_DIR, batch_size=1, train_ratio=1.0, valid_ratio=0.0, test_ratio=0.0)\n",
    "    \n",
    "elif dataset == 'springset':  # Added an 'elif' here for clarity.\n",
    "    train_loader, _, _ = load_springset(DATA_DIR, batch_size=1, train_ratio=1.0)"
   ]
  },
  {
   "cell_type": "code",
   "execution_count": 36,
   "metadata": {},
   "outputs": [
    {
     "name": "stdout",
     "output_type": "stream",
     "text": [
      "Sample 13: DC Offset (dry) = -0.000, DC Offset (wet) = 0.000, SNR = 5.543 dBB\r"
     ]
    },
    {
     "name": "stdout",
     "output_type": "stream",
     "text": [
      "Sample 689: DC Offset (dry) = -0.000, DC Offset (wet) = -0.000, SNR = 1.156 dBB\n",
      "Audio metrics saved to audio_metrics.csv!\n"
     ]
    }
   ],
   "source": [
    "# Write to a CSV file\n",
    "destination = RESULTS_DIR / f'{dataset}_dc_snr.csv'\n",
    "\n",
    "with open(destination, 'w', newline='') as csv_file:\n",
    "    writer = csv.writer(csv_file)\n",
    "    writer.writerow([\"Index\", \"dry_DC\", \"wet_DC\", \"SNR\"])  # Fixed the headers \n",
    "\n",
    "    for idx, (dry, wet) in enumerate(train_loader):\n",
    "        # Move the tensors to the computation device\n",
    "        dry = dry.to(device)\n",
    "        wet = wet.to(device)\n",
    "        \n",
    "        # Compute metrics\n",
    "        dc_offset_dry = compute_dc_offset(dry)\n",
    "        dc_offset_wet = compute_dc_offset(wet)\n",
    "        snr = compute_snr(dry, wet)\n",
    "\n",
    "        writer.writerow([idx, dc_offset_dry.item(), dc_offset_wet.item(), snr])\n",
    "\n",
    "        print(f\"Sample {idx}: DC Offset (dry) = {dc_offset_dry:.3f}, DC Offset (wet) = {dc_offset_wet:.3f}, SNR = {snr:.3f} dB\", end='\\r')\n",
    "\n",
    "    print(\"\\nAudio metrics saved to audio_metrics.csv!\")  # Added a newline character for cleaner printing.\n",
    "        "
   ]
  },
  {
   "cell_type": "markdown",
   "metadata": {},
   "source": [
    "## SpringSet"
   ]
  },
  {
   "cell_type": "code",
   "execution_count": 37,
   "metadata": {},
   "outputs": [
    {
     "name": "stdout",
     "output_type": "stream",
     "text": [
      "Found 4 files in ../data/raw/springset\n",
      "Using dry_train.h5 and wet_train.h5 for train split.\n"
     ]
    },
    {
     "name": "stdout",
     "output_type": "stream",
     "text": [
      "Found 4 files in ../data/raw/springset\n",
      "Using dry_val_test.h5 and wet_val_test.h5 for test split.\n"
     ]
    }
   ],
   "source": [
    "dataset = 'springset'\n",
    "\n",
    "if dataset == 'egfxset':\n",
    "    train_loader, _, _ = load_egfxset(DATA_DIR, batch_size=1, train_ratio=1.0, valid_ratio=0.0, test_ratio=0.0)\n",
    "    \n",
    "elif dataset == 'springset':  # Added an 'elif' here for clarity.\n",
    "    train_loader, _, _ = load_springset(DATA_DIR, batch_size=1, train_ratio=1.0)"
   ]
  },
  {
   "cell_type": "code",
   "execution_count": 38,
   "metadata": {},
   "outputs": [
    {
     "name": "stdout",
     "output_type": "stream",
     "text": [
      "Sample 1121: DC Offset (dry) = 0.000, DC Offset (wet) = 0.000, SNR = -2.657 dBBB\n",
      "Audio metrics saved to audio_metrics.csv!\n"
     ]
    }
   ],
   "source": [
    "# Write to a CSV file\n",
    "destination = RESULTS_DIR / f'{dataset}_dc_snr.csv'\n",
    "\n",
    "with open(destination, 'w', newline='') as csv_file:\n",
    "    writer = csv.writer(csv_file)\n",
    "    writer.writerow([\"Index\", \"dry_DC\", \"wet_DC\", \"SNR\"])  # Fixed the headers \n",
    "\n",
    "    for idx, (dry, wet) in enumerate(train_loader):\n",
    "        # Move the tensors to the computation device\n",
    "        dry = dry.to(device)\n",
    "        wet = wet.to(device)\n",
    "        \n",
    "        # Compute metrics\n",
    "        dc_offset_dry = compute_dc_offset(dry)\n",
    "        dc_offset_wet = compute_dc_offset(wet)\n",
    "        snr = compute_snr(dry, wet)\n",
    "\n",
    "        writer.writerow([idx, dc_offset_dry.item(), dc_offset_wet.item(), snr])\n",
    "\n",
    "        print(f\"Sample {idx}: DC Offset (dry) = {dc_offset_dry:.3f}, DC Offset (wet) = {dc_offset_wet:.3f}, SNR = {snr:.3f} dB\", end='\\r')\n",
    "\n",
    "    print(\"\\nAudio metrics saved to audio_metrics.csv!\")  # Added a newline character for cleaner printing."
   ]
  }
 ],
 "metadata": {
  "kernelspec": {
   "display_name": "Python 3",
   "language": "python",
   "name": "python3"
  },
  "language_info": {
   "codemirror_mode": {
    "name": "ipython",
    "version": 3
   },
   "file_extension": ".py",
   "mimetype": "text/x-python",
   "name": "python",
   "nbconvert_exporter": "python",
   "pygments_lexer": "ipython3",
   "version": "3.11.4"
  },
  "orig_nbformat": 4
 },
 "nbformat": 4,
 "nbformat_minor": 2
}
